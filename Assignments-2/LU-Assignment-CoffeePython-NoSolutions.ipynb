{
 "cells": [
  {
   "cell_type": "markdown",
   "metadata": {},
   "source": [
    "## CoffeePython POS Terminal"
   ]
  },
  {
   "cell_type": "markdown",
   "metadata": {},
   "source": [
    "CoffeePython is a new specialty coffee place along Katipunan. It commissioned students to build a crude character-mode terminal based on Python.\n",
    "\n",
    "It has the following products:\n",
    "\n",
    "\n",
    "| Code          | Product Name  |  Price |\n",
    "|---------------|---------------|--------|\n",
    "| brewedcoffee  | Brewed Coffee | 120.00 |\n",
    "| espresso      | Espresso      | 140.00 |\n",
    "| americano     | Americano     | 150.00 |\n",
    "| capuccino     | Capuccino     | 170.00 |\n"
   ]
  },
  {
   "cell_type": "markdown",
   "metadata": {},
   "source": [
    "A Python dictionary containing the product information has already been created by someone else:\n",
    "    "
   ]
  },
  {
   "cell_type": "code",
   "execution_count": 1,
   "metadata": {},
   "outputs": [],
   "source": [
    "products = {\n",
    "    \"brewedcoffee\":{\"name\": \"Brewed Coffee\",\"price\":120.00},\n",
    "    \"espresso\":{\"name\":\"Espresso\",\"price\":140.00},\n",
    "    \"americano\":{\"name\":\"Americano\",\"price\":150.00},\n",
    "    \"capuccino\":{\"name\":\"Capuccino\",\"price\":170.00},\n",
    "}"
   ]
  },
  {
   "cell_type": "markdown",
   "metadata": {},
   "source": [
    "### 1. product information lookup function (3 points)\n",
    "\n",
    "Write a function ```get_product(code)``` where code is the key of the product information in the products dictionary. The function should return the dictionary containing the specific product information.\n",
    "For example:\n",
    "\n",
    "\n",
    "**```get_product(\"espresso\")```**\n",
    "\n",
    "should yield\n",
    "\n",
    "**```{\"name\":\"Espresso\",\"price\":140.00}```**\n"
   ]
  },
  {
   "cell_type": "code",
   "execution_count": 2,
   "metadata": {},
   "outputs": [
    {
     "data": {
      "text/plain": [
       "{'name': 'Espresso', 'price': 140.0}"
      ]
     },
     "execution_count": 2,
     "metadata": {},
     "output_type": "execute_result"
    }
   ],
   "source": [
    "## Answer\n",
    "\n",
    "def get_product(code):\n",
    "    return products[code]\n",
    "\n",
    "get_product(\"espresso\")"
   ]
  },
  {
   "cell_type": "markdown",
   "metadata": {},
   "source": [
    "### 2. retrieve product attributes (2 points)\n",
    "a. Write one line of code that calls ```get_product(code)``` and returns the price of that product.\n"
   ]
  },
  {
   "cell_type": "code",
   "execution_count": 3,
   "metadata": {},
   "outputs": [
    {
     "data": {
      "text/plain": [
       "140.0"
      ]
     },
     "execution_count": 3,
     "metadata": {},
     "output_type": "execute_result"
    }
   ],
   "source": [
    "## Answer:\n",
    "\n",
    "get_product(\"espresso\")[\"price\"]"
   ]
  },
  {
   "cell_type": "markdown",
   "metadata": {},
   "source": [
    "b. Write one line of code that calls ```get_product(code)``` and returns the name of that product."
   ]
  },
  {
   "cell_type": "code",
   "execution_count": 4,
   "metadata": {},
   "outputs": [
    {
     "data": {
      "text/plain": [
       "'Espresso'"
      ]
     },
     "execution_count": 4,
     "metadata": {},
     "output_type": "execute_result"
    }
   ],
   "source": [
    "## Answer:\n",
    "\n",
    "get_product(\"espresso\")[\"name\"]"
   ]
  },
  {
   "cell_type": "markdown",
   "metadata": {},
   "source": [
    "### 2. Point-of-Sale Terminal  (5 points)\n",
    "\n",
    "Write a function ```main``` that asks for orders of food from a customer. The system should ask for the following:\n",
    "* Product Code (assume that the clerk has memorized the product codes)\n",
    "* Quantity\n",
    "\n",
    "The system then must update an electronic **food tray** (which is just a fancy term for a list of items ordered). Implement the food tray as a list of ordered items, each of which is a *dictionary* containing the following key-value pairs: \n",
    "\n",
    "* product_code, \n",
    "* quantity\n",
    "* subtotal *(which is just the quantity multiplied by the price of the product)*\n",
    "\n",
    "Design your program such that **food_tray** is a variable of the **main** function for now. We will deal with better software design later on. In any case, if any of your functions need to work on the food_tray, pass it as a parameter.\n",
    "\n",
    "The system must compute the subtotal before appending to the food tray.\n",
    "\n",
    "The system must be able to determine if the customer is done with his/her order. Once done, the system notifies the clerk/user of the grand total. \n",
    "\n",
    "The system then prints out the receipt (for now, just show it appear in the notebook), after which it is ready to process the next customer order. Make sure to clear out the food_tray after each successful order.\n",
    "\n",
    "**Bonus (2 points):**\n",
    "Format the receipt output using various print formatting options. You will have to do research on this.\n",
    "\n",
    "**Bonus (2 points):**\n",
    "If the cashier enters an invalid product code, handle the errors gracefully. For one, the system should not bomb out while processing something invalid; rather, it should tell the cashier that he/she entered an invalid product code and to try again.\n",
    "Note that you will have to do research on Error and Exception handling."
   ]
  },
  {
   "cell_type": "code",
   "execution_count": 5,
   "metadata": {},
   "outputs": [],
   "source": [
    "def add_to_tray(food_tray, ordered_item):\n",
    "    food_tray.append(ordered_item)\n",
    "    return food_tray\n",
    "    ## hint: append to the food_tray list\n"
   ]
  },
  {
   "cell_type": "code",
   "execution_count": 60,
   "metadata": {},
   "outputs": [],
   "source": [
    "def generate_receipt(food_tray):\n",
    "    for i in range(0,101):\n",
    "        if not i==100:\n",
    "            print (\"-\", end=\"\")\n",
    "        else:\n",
    "            print(\"-\")\n",
    "    \n",
    "    class font:\n",
    "        BOLD = '\\033[1m'\n",
    "        END = '\\033[0m'\n",
    "\n",
    "    print((font.BOLD + \"Welcome to Coffee Python!\" + font.END).center(107))\n",
    "    print(\"Katipunan, Quezon City, Metro Manila, Philippines\".center(100))\n",
    "    print(\"tel. (02)1234567\".center(100))\n",
    "    \n",
    "    for o in range(0,101):\n",
    "        if not o==100:\n",
    "            print (\"-\", end=\"\")\n",
    "        else:\n",
    "            print(\"-\")\n",
    "\n",
    "    for b in range(0,101):\n",
    "        if not b==100:\n",
    "            print (\"_\", end=\"\")\n",
    "        else:\n",
    "            print(\"_\")\n",
    "    print(\"Product Code\".ljust(15), end=\"\")\n",
    "    print(\"Product Name\".ljust(35), end=\"\")\n",
    "    print(\"Qty\".rjust(35), end=\"\")\n",
    "    print(\"Total\".rjust(15))\n",
    "        \n",
    "    for b in range(0,101):\n",
    "        if not b==100:\n",
    "            print (\"_\", end=\"\")\n",
    "        else:\n",
    "            print(\"_\")\n",
    "    \n",
    "    grandtotal = 0\n",
    "    for items in food_tray:\n",
    "        grandtotal = grandtotal + items[\"subtotal\"]\n",
    "        print(items[\"code\"].ljust(15), end=\"\")\n",
    "        print(products[items[\"code\"]][\"name\"].ljust(35), end=\"\")\n",
    "        print(str(items[\"qty\"]).rjust(35), end=\"\")\n",
    "        print(str(items[\"subtotal\"]).rjust(15))\n",
    "   \n",
    "    for b in range(0,101):\n",
    "        if not b==100:\n",
    "            print (\"_\", end=\"\")\n",
    "        else:\n",
    "            print(\"_\")\n",
    "    \n",
    "    print(\" \")    \n",
    "    print(\"Grand Total: \", end=\"\")\n",
    "    print(str(('\\033[4m'+ font.BOLD + (u\"\\u20B1\"+ \" \" + str(grandtotal) + font.END)).rjust(99)))\n",
    "          \n",
    "    for og in range(101):\n",
    "        if not og==100:\n",
    "            print (\"-\", end=\"\")\n",
    "        else:\n",
    "            print(\"-\")\n",
    "    \n",
    "    print(\"Thank you for buying at Coffee Python!\".center(100))\n",
    "    print(\"Come Again!\".center(100))\n",
    "    \n",
    "    for ids in range(0,101):\n",
    "        if not ids==100:\n",
    "            print (\"-\", end=\"\")\n",
    "        else:\n",
    "            print(\"-\")\n",
    "    ## write your code here\n",
    "    ## it is expected you will use print instead of returning a value\n",
    "    ## hint: use accumulator pattern and loop through the items in the food tray\n",
    "    ## hint: you will have to look up the product name from the products dictionary to make the receipt\n",
    "    ##       more presentable\n",
    "        "
   ]
  },
  {
   "cell_type": "code",
   "execution_count": 66,
   "metadata": {},
   "outputs": [],
   "source": [
    "def main():\n",
    "    \n",
    "    food_tray = []\n",
    "    command = \"N\"\n",
    "    while(True):\n",
    "        command = input(\"Options: N-New customer, Q-Quit \")\n",
    "        if(command.upper()==\"Q\"):\n",
    "            break\n",
    "        else:\n",
    "            more = \"Y\"\n",
    "            while(more==\"Y\"):\n",
    "                valid_entry = False\n",
    "                while(not valid_entry):\n",
    "                    try: \n",
    "                        code = input(\"Enter Product Code: \")\n",
    "                        checker = products[code]\n",
    "                        valid_entry = True\n",
    "                    except KeyError:\n",
    "                        print(\"Invalid Product Code.\")\n",
    "                \n",
    "                qty = int(input(\"Enter Quantity: \"))\n",
    "                print('\\033[1m'+code + \": \"+str(qty)+'\\033[0m')\n",
    "                \n",
    "                ordered_item = dict()\n",
    "                ordered_item[\"code\"] = code\n",
    "                ordered_item[\"qty\"] = qty\n",
    "                price = int(products[code][\"price\"])\n",
    "                ordered_item[\"subtotal\"] = qty*price\n",
    "                \n",
    "                add_to_tray(food_tray, ordered_item)\n",
    "\n",
    "                more = input(\"Add more items? (Y/N): \").upper()\n",
    "                \n",
    "        generate_receipt(food_tray)\n",
    "        food_tray = [] # clear out food tray\n",
    "\n",
    "        \n",
    "    print(\"Exiting CoffeePython POS Terminal. Have a great day.\")\n",
    "        "
   ]
  },
  {
   "cell_type": "code",
   "execution_count": null,
   "metadata": {
    "scrolled": true
   },
   "outputs": [
    {
     "name": "stdout",
     "output_type": "stream",
     "text": [
      "Options: N-New customer, Q-Quit n\n",
      "Enter Product Code: americano\n",
      "Enter Quantity: 10\n",
      "\u001b[1mamericano: 10\u001b[0m\n",
      "Add more items? (Y/N): y\n",
      "Enter Product Code: capuccino\n",
      "Enter Quantity: 120\n",
      "\u001b[1mcapuccino: 120\u001b[0m\n",
      "Add more items? (Y/N): y\n",
      "Enter Product Code: brewedcoffee\n",
      "Enter Quantity: 71\n",
      "\u001b[1mbrewedcoffee: 71\u001b[0m\n",
      "Add more items? (Y/N): n\n",
      "-----------------------------------------------------------------------------------------------------\n",
      "                                     \u001b[1mWelcome to Coffee Python!\u001b[0m                                     \n",
      "                         Katipunan, Quezon City, Metro Manila, Philippines                          \n",
      "                                          tel. (02)1234567                                          \n",
      "-----------------------------------------------------------------------------------------------------\n",
      "_____________________________________________________________________________________________________\n",
      "Product Code   Product Name                                                       Qty          Total\n",
      "_____________________________________________________________________________________________________\n",
      "americano      Americano                                                           10           1500\n",
      "capuccino      Capuccino                                                          120          20400\n",
      "brewedcoffee   Brewed Coffee                                                       71           8520\n",
      "_____________________________________________________________________________________________________\n",
      " \n",
      "Grand Total:                                                                                 \u001b[4m\u001b[1m₱ 30420\u001b[0m\n",
      "-----------------------------------------------------------------------------------------------------\n",
      "                               Thank you for buying at Coffee Python!                               \n",
      "                                            Come Again!                                             \n",
      "-----------------------------------------------------------------------------------------------------\n",
      "Options: N-New customer, Q-Quit n\n",
      "Enter Product Code: asdf\n",
      "Invalid Product Code.\n",
      "Enter Product Code: americano\n",
      "Enter Quantity: 1\n",
      "\u001b[1mamericano: 1\u001b[0m\n",
      "Add more items? (Y/N): n\n",
      "-----------------------------------------------------------------------------------------------------\n",
      "                                     \u001b[1mWelcome to Coffee Python!\u001b[0m                                     \n",
      "                         Katipunan, Quezon City, Metro Manila, Philippines                          \n",
      "                                          tel. (02)1234567                                          \n",
      "-----------------------------------------------------------------------------------------------------\n",
      "_____________________________________________________________________________________________________\n",
      "Product Code   Product Name                                                       Qty          Total\n",
      "_____________________________________________________________________________________________________\n",
      "americano      Americano                                                            1            150\n",
      "_____________________________________________________________________________________________________\n",
      " \n",
      "Grand Total:                                                                                   \u001b[4m\u001b[1m₱ 150\u001b[0m\n",
      "-----------------------------------------------------------------------------------------------------\n",
      "                               Thank you for buying at Coffee Python!                               \n",
      "                                            Come Again!                                             \n",
      "-----------------------------------------------------------------------------------------------------\n"
     ]
    }
   ],
   "source": [
    "main()"
   ]
  },
  {
   "cell_type": "code",
   "execution_count": null,
   "metadata": {},
   "outputs": [],
   "source": []
  }
 ],
 "metadata": {
  "kernelspec": {
   "display_name": "Python 3",
   "language": "python",
   "name": "python3"
  },
  "language_info": {
   "codemirror_mode": {
    "name": "ipython",
    "version": 3
   },
   "file_extension": ".py",
   "mimetype": "text/x-python",
   "name": "python",
   "nbconvert_exporter": "python",
   "pygments_lexer": "ipython3",
   "version": "3.7.3"
  }
 },
 "nbformat": 4,
 "nbformat_minor": 2
}
